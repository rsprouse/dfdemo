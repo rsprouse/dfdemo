{
 "cells": [
  {
   "cell_type": "markdown",
   "metadata": {},
   "source": [
    "# Basic dataframe operations\n",
    "\n",
    "In this chapter we will explore some of the basic operations you can perform on dataframes.\n",
    "\n",
    "The first task is to read some data into a dataframe."
   ]
  },
  {
   "cell_type": "code",
   "execution_count": 1,
   "metadata": {
    "collapsed": true
   },
   "outputs": [],
   "source": [
    "import pandas as pd\n",
    "from audiolabel import read_label"
   ]
  },
  {
   "cell_type": "code",
   "execution_count": 2,
   "metadata": {
    "collapsed": false
   },
   "outputs": [
    {
     "data": {
      "text/html": [
       "<div>\n",
       "<style>\n",
       "    .dataframe thead tr:only-child th {\n",
       "        text-align: right;\n",
       "    }\n",
       "\n",
       "    .dataframe thead th {\n",
       "        text-align: left;\n",
       "    }\n",
       "\n",
       "    .dataframe tbody tr th {\n",
       "        vertical-align: top;\n",
       "    }\n",
       "</style>\n",
       "<table border=\"1\" class=\"dataframe\">\n",
       "  <thead>\n",
       "    <tr style=\"text-align: right;\">\n",
       "      <th></th>\n",
       "      <th>t1</th>\n",
       "      <th>t2</th>\n",
       "      <th>label</th>\n",
       "      <th>fidx</th>\n",
       "      <th>fname</th>\n",
       "    </tr>\n",
       "  </thead>\n",
       "  <tbody>\n",
       "    <tr>\n",
       "      <th>0</th>\n",
       "      <td>0.0125</td>\n",
       "      <td>0.4914</td>\n",
       "      <td>TWO</td>\n",
       "      <td>0</td>\n",
       "      <td>resource/two_plus_two_1.tg</td>\n",
       "    </tr>\n",
       "    <tr>\n",
       "      <th>1</th>\n",
       "      <td>0.4914</td>\n",
       "      <td>0.8805</td>\n",
       "      <td>PLUS</td>\n",
       "      <td>0</td>\n",
       "      <td>resource/two_plus_two_1.tg</td>\n",
       "    </tr>\n",
       "    <tr>\n",
       "      <th>2</th>\n",
       "      <td>0.8805</td>\n",
       "      <td>1.3195</td>\n",
       "      <td>TWO</td>\n",
       "      <td>0</td>\n",
       "      <td>resource/two_plus_two_1.tg</td>\n",
       "    </tr>\n",
       "    <tr>\n",
       "      <th>3</th>\n",
       "      <td>1.3195</td>\n",
       "      <td>1.3594</td>\n",
       "      <td>sp</td>\n",
       "      <td>0</td>\n",
       "      <td>resource/two_plus_two_1.tg</td>\n",
       "    </tr>\n",
       "    <tr>\n",
       "      <th>4</th>\n",
       "      <td>1.3594</td>\n",
       "      <td>1.7585</td>\n",
       "      <td>EQUALS</td>\n",
       "      <td>0</td>\n",
       "      <td>resource/two_plus_two_1.tg</td>\n",
       "    </tr>\n",
       "    <tr>\n",
       "      <th>5</th>\n",
       "      <td>1.7585</td>\n",
       "      <td>1.8283</td>\n",
       "      <td>sp</td>\n",
       "      <td>0</td>\n",
       "      <td>resource/two_plus_two_1.tg</td>\n",
       "    </tr>\n",
       "    <tr>\n",
       "      <th>6</th>\n",
       "      <td>1.8283</td>\n",
       "      <td>2.1975</td>\n",
       "      <td>FOUR</td>\n",
       "      <td>0</td>\n",
       "      <td>resource/two_plus_two_1.tg</td>\n",
       "    </tr>\n",
       "    <tr>\n",
       "      <th>7</th>\n",
       "      <td>0.0125</td>\n",
       "      <td>0.4116</td>\n",
       "      <td>THREE</td>\n",
       "      <td>1</td>\n",
       "      <td>resource/three_plus_five_1.tg</td>\n",
       "    </tr>\n",
       "    <tr>\n",
       "      <th>8</th>\n",
       "      <td>0.4116</td>\n",
       "      <td>0.8107</td>\n",
       "      <td>PLUS</td>\n",
       "      <td>1</td>\n",
       "      <td>resource/three_plus_five_1.tg</td>\n",
       "    </tr>\n",
       "    <tr>\n",
       "      <th>9</th>\n",
       "      <td>0.8107</td>\n",
       "      <td>1.2696</td>\n",
       "      <td>FIVE</td>\n",
       "      <td>1</td>\n",
       "      <td>resource/three_plus_five_1.tg</td>\n",
       "    </tr>\n",
       "    <tr>\n",
       "      <th>10</th>\n",
       "      <td>1.2696</td>\n",
       "      <td>1.4592</td>\n",
       "      <td>sp</td>\n",
       "      <td>1</td>\n",
       "      <td>resource/three_plus_five_1.tg</td>\n",
       "    </tr>\n",
       "    <tr>\n",
       "      <th>11</th>\n",
       "      <td>1.4592</td>\n",
       "      <td>1.8583</td>\n",
       "      <td>EQUALS</td>\n",
       "      <td>1</td>\n",
       "      <td>resource/three_plus_five_1.tg</td>\n",
       "    </tr>\n",
       "    <tr>\n",
       "      <th>12</th>\n",
       "      <td>1.8583</td>\n",
       "      <td>2.2274</td>\n",
       "      <td>EIGHT</td>\n",
       "      <td>1</td>\n",
       "      <td>resource/three_plus_five_1.tg</td>\n",
       "    </tr>\n",
       "    <tr>\n",
       "      <th>13</th>\n",
       "      <td>2.2274</td>\n",
       "      <td>2.5966</td>\n",
       "      <td>sp</td>\n",
       "      <td>1</td>\n",
       "      <td>resource/three_plus_five_1.tg</td>\n",
       "    </tr>\n",
       "  </tbody>\n",
       "</table>\n",
       "</div>"
      ],
      "text/plain": [
       "        t1      t2   label  fidx                          fname\n",
       "0   0.0125  0.4914     TWO     0     resource/two_plus_two_1.tg\n",
       "1   0.4914  0.8805    PLUS     0     resource/two_plus_two_1.tg\n",
       "2   0.8805  1.3195     TWO     0     resource/two_plus_two_1.tg\n",
       "3   1.3195  1.3594      sp     0     resource/two_plus_two_1.tg\n",
       "4   1.3594  1.7585  EQUALS     0     resource/two_plus_two_1.tg\n",
       "5   1.7585  1.8283      sp     0     resource/two_plus_two_1.tg\n",
       "6   1.8283  2.1975    FOUR     0     resource/two_plus_two_1.tg\n",
       "7   0.0125  0.4116   THREE     1  resource/three_plus_five_1.tg\n",
       "8   0.4116  0.8107    PLUS     1  resource/three_plus_five_1.tg\n",
       "9   0.8107  1.2696    FIVE     1  resource/three_plus_five_1.tg\n",
       "10  1.2696  1.4592      sp     1  resource/three_plus_five_1.tg\n",
       "11  1.4592  1.8583  EQUALS     1  resource/three_plus_five_1.tg\n",
       "12  1.8583  2.2274   EIGHT     1  resource/three_plus_five_1.tg\n",
       "13  2.2274  2.5966      sp     1  resource/three_plus_five_1.tg"
      ]
     },
     "execution_count": 2,
     "metadata": {},
     "output_type": "execute_result"
    }
   ],
   "source": [
    "flist = ['resource/two_plus_two_1.tg', 'resource/three_plus_five_1.tg']\n",
    "[phdf, wddf] = read_label(flist, 'praat', addcols=['fidx'])\n",
    "wddf"
   ]
  },
  {
   "cell_type": "markdown",
   "metadata": {},
   "source": [
    "## Viewing dataframes\n",
    "\n",
    "Here are a few ways to explore ways to interact with the contents of a dataframe. Let's starting with a dataframe object. The dot `'.'` following the dataframe's name is how we access its methods. Try clicking after the dot in the following cell and then press the `Tab` key.\n",
    "\n",
    "You'll see a list of available methods. Scroll through the list with the arrow keys to review the possible actions you can perform on a dataframe."
   ]
  },
  {
   "cell_type": "code",
   "execution_count": null,
   "metadata": {
    "collapsed": true
   },
   "outputs": [],
   "source": [
    "phdf."
   ]
  },
  {
   "cell_type": "markdown",
   "metadata": {},
   "source": [
    "Chapter 1 introduced the `head()` method to show the first few rows of a dataframe. The `tail()` method shows the last few rows."
   ]
  },
  {
   "cell_type": "code",
   "execution_count": 3,
   "metadata": {
    "collapsed": false
   },
   "outputs": [
    {
     "data": {
      "text/html": [
       "<div>\n",
       "<style>\n",
       "    .dataframe thead tr:only-child th {\n",
       "        text-align: right;\n",
       "    }\n",
       "\n",
       "    .dataframe thead th {\n",
       "        text-align: left;\n",
       "    }\n",
       "\n",
       "    .dataframe tbody tr th {\n",
       "        vertical-align: top;\n",
       "    }\n",
       "</style>\n",
       "<table border=\"1\" class=\"dataframe\">\n",
       "  <thead>\n",
       "    <tr style=\"text-align: right;\">\n",
       "      <th></th>\n",
       "      <th>t1</th>\n",
       "      <th>t2</th>\n",
       "      <th>label</th>\n",
       "      <th>fidx</th>\n",
       "      <th>fname</th>\n",
       "    </tr>\n",
       "  </thead>\n",
       "  <tbody>\n",
       "    <tr>\n",
       "      <th>0</th>\n",
       "      <td>0.0125</td>\n",
       "      <td>0.4914</td>\n",
       "      <td>TWO</td>\n",
       "      <td>0</td>\n",
       "      <td>resource/two_plus_two_1.tg</td>\n",
       "    </tr>\n",
       "    <tr>\n",
       "      <th>1</th>\n",
       "      <td>0.4914</td>\n",
       "      <td>0.8805</td>\n",
       "      <td>PLUS</td>\n",
       "      <td>0</td>\n",
       "      <td>resource/two_plus_two_1.tg</td>\n",
       "    </tr>\n",
       "    <tr>\n",
       "      <th>2</th>\n",
       "      <td>0.8805</td>\n",
       "      <td>1.3195</td>\n",
       "      <td>TWO</td>\n",
       "      <td>0</td>\n",
       "      <td>resource/two_plus_two_1.tg</td>\n",
       "    </tr>\n",
       "    <tr>\n",
       "      <th>3</th>\n",
       "      <td>1.3195</td>\n",
       "      <td>1.3594</td>\n",
       "      <td>sp</td>\n",
       "      <td>0</td>\n",
       "      <td>resource/two_plus_two_1.tg</td>\n",
       "    </tr>\n",
       "    <tr>\n",
       "      <th>4</th>\n",
       "      <td>1.3594</td>\n",
       "      <td>1.7585</td>\n",
       "      <td>EQUALS</td>\n",
       "      <td>0</td>\n",
       "      <td>resource/two_plus_two_1.tg</td>\n",
       "    </tr>\n",
       "  </tbody>\n",
       "</table>\n",
       "</div>"
      ],
      "text/plain": [
       "       t1      t2   label  fidx                       fname\n",
       "0  0.0125  0.4914     TWO     0  resource/two_plus_two_1.tg\n",
       "1  0.4914  0.8805    PLUS     0  resource/two_plus_two_1.tg\n",
       "2  0.8805  1.3195     TWO     0  resource/two_plus_two_1.tg\n",
       "3  1.3195  1.3594      sp     0  resource/two_plus_two_1.tg\n",
       "4  1.3594  1.7585  EQUALS     0  resource/two_plus_two_1.tg"
      ]
     },
     "execution_count": 3,
     "metadata": {},
     "output_type": "execute_result"
    }
   ],
   "source": [
    "wddf.head()"
   ]
  },
  {
   "cell_type": "code",
   "execution_count": 4,
   "metadata": {
    "collapsed": false
   },
   "outputs": [
    {
     "data": {
      "text/html": [
       "<div>\n",
       "<style>\n",
       "    .dataframe thead tr:only-child th {\n",
       "        text-align: right;\n",
       "    }\n",
       "\n",
       "    .dataframe thead th {\n",
       "        text-align: left;\n",
       "    }\n",
       "\n",
       "    .dataframe tbody tr th {\n",
       "        vertical-align: top;\n",
       "    }\n",
       "</style>\n",
       "<table border=\"1\" class=\"dataframe\">\n",
       "  <thead>\n",
       "    <tr style=\"text-align: right;\">\n",
       "      <th></th>\n",
       "      <th>t1</th>\n",
       "      <th>t2</th>\n",
       "      <th>label</th>\n",
       "      <th>fidx</th>\n",
       "      <th>fname</th>\n",
       "    </tr>\n",
       "  </thead>\n",
       "  <tbody>\n",
       "    <tr>\n",
       "      <th>9</th>\n",
       "      <td>0.8107</td>\n",
       "      <td>1.2696</td>\n",
       "      <td>FIVE</td>\n",
       "      <td>1</td>\n",
       "      <td>resource/three_plus_five_1.tg</td>\n",
       "    </tr>\n",
       "    <tr>\n",
       "      <th>10</th>\n",
       "      <td>1.2696</td>\n",
       "      <td>1.4592</td>\n",
       "      <td>sp</td>\n",
       "      <td>1</td>\n",
       "      <td>resource/three_plus_five_1.tg</td>\n",
       "    </tr>\n",
       "    <tr>\n",
       "      <th>11</th>\n",
       "      <td>1.4592</td>\n",
       "      <td>1.8583</td>\n",
       "      <td>EQUALS</td>\n",
       "      <td>1</td>\n",
       "      <td>resource/three_plus_five_1.tg</td>\n",
       "    </tr>\n",
       "    <tr>\n",
       "      <th>12</th>\n",
       "      <td>1.8583</td>\n",
       "      <td>2.2274</td>\n",
       "      <td>EIGHT</td>\n",
       "      <td>1</td>\n",
       "      <td>resource/three_plus_five_1.tg</td>\n",
       "    </tr>\n",
       "    <tr>\n",
       "      <th>13</th>\n",
       "      <td>2.2274</td>\n",
       "      <td>2.5966</td>\n",
       "      <td>sp</td>\n",
       "      <td>1</td>\n",
       "      <td>resource/three_plus_five_1.tg</td>\n",
       "    </tr>\n",
       "  </tbody>\n",
       "</table>\n",
       "</div>"
      ],
      "text/plain": [
       "        t1      t2   label  fidx                          fname\n",
       "9   0.8107  1.2696    FIVE     1  resource/three_plus_five_1.tg\n",
       "10  1.2696  1.4592      sp     1  resource/three_plus_five_1.tg\n",
       "11  1.4592  1.8583  EQUALS     1  resource/three_plus_five_1.tg\n",
       "12  1.8583  2.2274   EIGHT     1  resource/three_plus_five_1.tg\n",
       "13  2.2274  2.5966      sp     1  resource/three_plus_five_1.tg"
      ]
     },
     "execution_count": 4,
     "metadata": {},
     "output_type": "execute_result"
    }
   ],
   "source": [
    "wddf.tail()"
   ]
  },
  {
   "cell_type": "markdown",
   "metadata": {},
   "source": [
    "## Getting basic dataframe info\n",
    "\n",
    "A number dataframe attributes give detailed information about its contents.\n",
    "\n",
    "The `shape` attribute tells you how many rows and columns are present."
   ]
  },
  {
   "cell_type": "code",
   "execution_count": 5,
   "metadata": {
    "collapsed": false
   },
   "outputs": [
    {
     "data": {
      "text/plain": [
       "(14, 5)"
      ]
     },
     "execution_count": 5,
     "metadata": {},
     "output_type": "execute_result"
    }
   ],
   "source": [
    "wddf.shape   # rows, columns"
   ]
  },
  {
   "cell_type": "markdown",
   "metadata": {},
   "source": [
    "The `len()` function returns the number of dataframe rows. Note that `len()` is not a dataframe method."
   ]
  },
  {
   "cell_type": "code",
   "execution_count": 6,
   "metadata": {
    "collapsed": false
   },
   "outputs": [
    {
     "data": {
      "text/plain": [
       "14"
      ]
     },
     "execution_count": 6,
     "metadata": {},
     "output_type": "execute_result"
    }
   ],
   "source": [
    "len(wddf)    # not wddf.len()"
   ]
  },
  {
   "cell_type": "code",
   "execution_count": 7,
   "metadata": {
    "collapsed": false
   },
   "outputs": [
    {
     "data": {
      "text/plain": [
       "True"
      ]
     },
     "execution_count": 7,
     "metadata": {},
     "output_type": "execute_result"
    }
   ],
   "source": [
    "wddf.shape[0] == len(wddf)"
   ]
  },
  {
   "cell_type": "markdown",
   "metadata": {},
   "source": [
    "The column labels are accessible through the `columns` attribute"
   ]
  },
  {
   "cell_type": "code",
   "execution_count": 8,
   "metadata": {
    "collapsed": false
   },
   "outputs": [
    {
     "data": {
      "text/plain": [
       "Index(['t1', 't2', 'label', 'fidx', 'fname'], dtype='object')"
      ]
     },
     "execution_count": 8,
     "metadata": {},
     "output_type": "execute_result"
    }
   ],
   "source": [
    "wddf.columns"
   ]
  },
  {
   "cell_type": "markdown",
   "metadata": {},
   "source": [
    "The length of the `columns` is the number of columns."
   ]
  },
  {
   "cell_type": "code",
   "execution_count": 9,
   "metadata": {
    "collapsed": false
   },
   "outputs": [
    {
     "data": {
      "text/plain": [
       "5"
      ]
     },
     "execution_count": 9,
     "metadata": {},
     "output_type": "execute_result"
    }
   ],
   "source": [
    "len(wddf.columns)"
   ]
  },
  {
   "cell_type": "code",
   "execution_count": 10,
   "metadata": {
    "collapsed": false
   },
   "outputs": [
    {
     "data": {
      "text/plain": [
       "True"
      ]
     },
     "execution_count": 10,
     "metadata": {},
     "output_type": "execute_result"
    }
   ],
   "source": [
    "wddf.shape[1] == len(wddf.columns)"
   ]
  },
  {
   "cell_type": "markdown",
   "metadata": {},
   "source": [
    "To find out what kinds of values are stored in your columns, use the `dtypes` attribute."
   ]
  },
  {
   "cell_type": "code",
   "execution_count": 11,
   "metadata": {
    "collapsed": false
   },
   "outputs": [
    {
     "data": {
      "text/plain": [
       "t1        float64\n",
       "t2        float64\n",
       "label      object\n",
       "fidx        int64\n",
       "fname    category\n",
       "dtype: object"
      ]
     },
     "execution_count": 11,
     "metadata": {},
     "output_type": "execute_result"
    }
   ],
   "source": [
    "wddf.dtypes"
   ]
  },
  {
   "cell_type": "markdown",
   "metadata": {},
   "source": [
    "You can also view the dataframe's index, which is used in row selection and combining operations."
   ]
  },
  {
   "cell_type": "code",
   "execution_count": 12,
   "metadata": {
    "collapsed": false
   },
   "outputs": [
    {
     "data": {
      "text/plain": [
       "RangeIndex(start=0, stop=14, step=1)"
      ]
     },
     "execution_count": 12,
     "metadata": {},
     "output_type": "execute_result"
    }
   ],
   "source": [
    "wddf.index#.values"
   ]
  },
  {
   "cell_type": "markdown",
   "metadata": {},
   "source": [
    "## Renaming columns\n",
    "\n",
    "Sometimes you need to assign names to your columns, perhaps because you read a headerless text file with `read_csv()` and didn't assign column names with the `names` parameter. You can add names to an existing dataframe by assigning to the `columns` attribute."
   ]
  },
  {
   "cell_type": "code",
   "execution_count": 13,
   "metadata": {
    "collapsed": false
   },
   "outputs": [
    {
     "data": {
      "text/html": [
       "<div>\n",
       "<style>\n",
       "    .dataframe thead tr:only-child th {\n",
       "        text-align: right;\n",
       "    }\n",
       "\n",
       "    .dataframe thead th {\n",
       "        text-align: left;\n",
       "    }\n",
       "\n",
       "    .dataframe tbody tr th {\n",
       "        vertical-align: top;\n",
       "    }\n",
       "</style>\n",
       "<table border=\"1\" class=\"dataframe\">\n",
       "  <thead>\n",
       "    <tr style=\"text-align: right;\">\n",
       "      <th></th>\n",
       "      <th>0</th>\n",
       "      <th>1</th>\n",
       "      <th>2</th>\n",
       "      <th>3</th>\n",
       "      <th>4</th>\n",
       "      <th>5</th>\n",
       "      <th>6</th>\n",
       "    </tr>\n",
       "  </thead>\n",
       "  <tbody>\n",
       "    <tr>\n",
       "      <th>210</th>\n",
       "      <td>2.105</td>\n",
       "      <td>612.5</td>\n",
       "      <td>684.4</td>\n",
       "      <td>1187.4</td>\n",
       "      <td>1489.2</td>\n",
       "      <td>3059.5</td>\n",
       "      <td>129.8</td>\n",
       "    </tr>\n",
       "    <tr>\n",
       "      <th>211</th>\n",
       "      <td>2.115</td>\n",
       "      <td>550.0</td>\n",
       "      <td>676.4</td>\n",
       "      <td>1228.3</td>\n",
       "      <td>1609.7</td>\n",
       "      <td>3078.8</td>\n",
       "      <td>0.0</td>\n",
       "    </tr>\n",
       "    <tr>\n",
       "      <th>212</th>\n",
       "      <td>2.125</td>\n",
       "      <td>511.3</td>\n",
       "      <td>881.6</td>\n",
       "      <td>1240.9</td>\n",
       "      <td>1628.9</td>\n",
       "      <td>2982.4</td>\n",
       "      <td>101.5</td>\n",
       "    </tr>\n",
       "    <tr>\n",
       "      <th>213</th>\n",
       "      <td>2.135</td>\n",
       "      <td>442.6</td>\n",
       "      <td>951.5</td>\n",
       "      <td>1254.8</td>\n",
       "      <td>1654.1</td>\n",
       "      <td>3177.6</td>\n",
       "      <td>106.3</td>\n",
       "    </tr>\n",
       "    <tr>\n",
       "      <th>214</th>\n",
       "      <td>2.145</td>\n",
       "      <td>260.4</td>\n",
       "      <td>768.5</td>\n",
       "      <td>1239.6</td>\n",
       "      <td>1871.3</td>\n",
       "      <td>3146.8</td>\n",
       "      <td>107.1</td>\n",
       "    </tr>\n",
       "  </tbody>\n",
       "</table>\n",
       "</div>"
      ],
      "text/plain": [
       "         0      1      2       3       4       5      6\n",
       "210  2.105  612.5  684.4  1187.4  1489.2  3059.5  129.8\n",
       "211  2.115  550.0  676.4  1228.3  1609.7  3078.8    0.0\n",
       "212  2.125  511.3  881.6  1240.9  1628.9  2982.4  101.5\n",
       "213  2.135  442.6  951.5  1254.8  1654.1  3177.6  106.3\n",
       "214  2.145  260.4  768.5  1239.6  1871.3  3146.8  107.1"
      ]
     },
     "execution_count": 13,
     "metadata": {},
     "output_type": "execute_result"
    }
   ],
   "source": [
    "nhdf = pd.read_csv('resource/two_plus_two_1.nohead.ifc', sep='\\t', header=None)\n",
    "nhdf.tail()"
   ]
  },
  {
   "cell_type": "code",
   "execution_count": 14,
   "metadata": {
    "collapsed": false
   },
   "outputs": [
    {
     "data": {
      "text/html": [
       "<div>\n",
       "<style>\n",
       "    .dataframe thead tr:only-child th {\n",
       "        text-align: right;\n",
       "    }\n",
       "\n",
       "    .dataframe thead th {\n",
       "        text-align: left;\n",
       "    }\n",
       "\n",
       "    .dataframe tbody tr th {\n",
       "        vertical-align: top;\n",
       "    }\n",
       "</style>\n",
       "<table border=\"1\" class=\"dataframe\">\n",
       "  <thead>\n",
       "    <tr style=\"text-align: right;\">\n",
       "      <th></th>\n",
       "      <th>sec</th>\n",
       "      <th>rms</th>\n",
       "      <th>f1</th>\n",
       "      <th>f2</th>\n",
       "      <th>f3</th>\n",
       "      <th>f4</th>\n",
       "      <th>f0</th>\n",
       "    </tr>\n",
       "  </thead>\n",
       "  <tbody>\n",
       "    <tr>\n",
       "      <th>210</th>\n",
       "      <td>2.105</td>\n",
       "      <td>612.5</td>\n",
       "      <td>684.4</td>\n",
       "      <td>1187.4</td>\n",
       "      <td>1489.2</td>\n",
       "      <td>3059.5</td>\n",
       "      <td>129.8</td>\n",
       "    </tr>\n",
       "    <tr>\n",
       "      <th>211</th>\n",
       "      <td>2.115</td>\n",
       "      <td>550.0</td>\n",
       "      <td>676.4</td>\n",
       "      <td>1228.3</td>\n",
       "      <td>1609.7</td>\n",
       "      <td>3078.8</td>\n",
       "      <td>0.0</td>\n",
       "    </tr>\n",
       "    <tr>\n",
       "      <th>212</th>\n",
       "      <td>2.125</td>\n",
       "      <td>511.3</td>\n",
       "      <td>881.6</td>\n",
       "      <td>1240.9</td>\n",
       "      <td>1628.9</td>\n",
       "      <td>2982.4</td>\n",
       "      <td>101.5</td>\n",
       "    </tr>\n",
       "    <tr>\n",
       "      <th>213</th>\n",
       "      <td>2.135</td>\n",
       "      <td>442.6</td>\n",
       "      <td>951.5</td>\n",
       "      <td>1254.8</td>\n",
       "      <td>1654.1</td>\n",
       "      <td>3177.6</td>\n",
       "      <td>106.3</td>\n",
       "    </tr>\n",
       "    <tr>\n",
       "      <th>214</th>\n",
       "      <td>2.145</td>\n",
       "      <td>260.4</td>\n",
       "      <td>768.5</td>\n",
       "      <td>1239.6</td>\n",
       "      <td>1871.3</td>\n",
       "      <td>3146.8</td>\n",
       "      <td>107.1</td>\n",
       "    </tr>\n",
       "  </tbody>\n",
       "</table>\n",
       "</div>"
      ],
      "text/plain": [
       "       sec    rms     f1      f2      f3      f4     f0\n",
       "210  2.105  612.5  684.4  1187.4  1489.2  3059.5  129.8\n",
       "211  2.115  550.0  676.4  1228.3  1609.7  3078.8    0.0\n",
       "212  2.125  511.3  881.6  1240.9  1628.9  2982.4  101.5\n",
       "213  2.135  442.6  951.5  1254.8  1654.1  3177.6  106.3\n",
       "214  2.145  260.4  768.5  1239.6  1871.3  3146.8  107.1"
      ]
     },
     "execution_count": 14,
     "metadata": {},
     "output_type": "execute_result"
    }
   ],
   "source": [
    "nhdf.columns = ['sec', 'rms', 'f1', 'f2', 'f3', 'f4', 'f0']\n",
    "nhdf.tail()"
   ]
  },
  {
   "cell_type": "markdown",
   "metadata": {},
   "source": [
    "You can overwrite existing column names. The next cell converts all the column names to upper case. Execute the cell, then try converting back to lower case with `lower()`."
   ]
  },
  {
   "cell_type": "code",
   "execution_count": 15,
   "metadata": {
    "collapsed": false
   },
   "outputs": [
    {
     "data": {
      "text/html": [
       "<div>\n",
       "<style>\n",
       "    .dataframe thead tr:only-child th {\n",
       "        text-align: right;\n",
       "    }\n",
       "\n",
       "    .dataframe thead th {\n",
       "        text-align: left;\n",
       "    }\n",
       "\n",
       "    .dataframe tbody tr th {\n",
       "        vertical-align: top;\n",
       "    }\n",
       "</style>\n",
       "<table border=\"1\" class=\"dataframe\">\n",
       "  <thead>\n",
       "    <tr style=\"text-align: right;\">\n",
       "      <th></th>\n",
       "      <th>T1</th>\n",
       "      <th>T2</th>\n",
       "      <th>LABEL</th>\n",
       "      <th>FIDX</th>\n",
       "      <th>FNAME</th>\n",
       "    </tr>\n",
       "  </thead>\n",
       "  <tbody>\n",
       "    <tr>\n",
       "      <th>34</th>\n",
       "      <td>1.6986</td>\n",
       "      <td>1.7685</td>\n",
       "      <td>L</td>\n",
       "      <td>1</td>\n",
       "      <td>resource/three_plus_five_1.tg</td>\n",
       "    </tr>\n",
       "    <tr>\n",
       "      <th>35</th>\n",
       "      <td>1.7685</td>\n",
       "      <td>1.8583</td>\n",
       "      <td>Z</td>\n",
       "      <td>1</td>\n",
       "      <td>resource/three_plus_five_1.tg</td>\n",
       "    </tr>\n",
       "    <tr>\n",
       "      <th>36</th>\n",
       "      <td>1.8583</td>\n",
       "      <td>2.1376</td>\n",
       "      <td>EY1</td>\n",
       "      <td>1</td>\n",
       "      <td>resource/three_plus_five_1.tg</td>\n",
       "    </tr>\n",
       "    <tr>\n",
       "      <th>37</th>\n",
       "      <td>2.1376</td>\n",
       "      <td>2.2274</td>\n",
       "      <td>T</td>\n",
       "      <td>1</td>\n",
       "      <td>resource/three_plus_five_1.tg</td>\n",
       "    </tr>\n",
       "    <tr>\n",
       "      <th>38</th>\n",
       "      <td>2.2274</td>\n",
       "      <td>2.5966</td>\n",
       "      <td>sp</td>\n",
       "      <td>1</td>\n",
       "      <td>resource/three_plus_five_1.tg</td>\n",
       "    </tr>\n",
       "  </tbody>\n",
       "</table>\n",
       "</div>"
      ],
      "text/plain": [
       "        T1      T2 LABEL  FIDX                          FNAME\n",
       "34  1.6986  1.7685     L     1  resource/three_plus_five_1.tg\n",
       "35  1.7685  1.8583     Z     1  resource/three_plus_five_1.tg\n",
       "36  1.8583  2.1376   EY1     1  resource/three_plus_five_1.tg\n",
       "37  2.1376  2.2274     T     1  resource/three_plus_five_1.tg\n",
       "38  2.2274  2.5966    sp     1  resource/three_plus_five_1.tg"
      ]
     },
     "execution_count": 15,
     "metadata": {},
     "output_type": "execute_result"
    }
   ],
   "source": [
    "phdf.columns = [c.upper() for c in phdf.columns]\n",
    "phdf.tail()"
   ]
  },
  {
   "cell_type": "markdown",
   "metadata": {},
   "source": [
    "If you want to rename only some of the columns, you can use `rename()` with a dict that maps old names to new names."
   ]
  },
  {
   "cell_type": "code",
   "execution_count": 16,
   "metadata": {
    "collapsed": false
   },
   "outputs": [
    {
     "data": {
      "text/html": [
       "<div>\n",
       "<style>\n",
       "    .dataframe thead tr:only-child th {\n",
       "        text-align: right;\n",
       "    }\n",
       "\n",
       "    .dataframe thead th {\n",
       "        text-align: left;\n",
       "    }\n",
       "\n",
       "    .dataframe tbody tr th {\n",
       "        vertical-align: top;\n",
       "    }\n",
       "</style>\n",
       "<table border=\"1\" class=\"dataframe\">\n",
       "  <thead>\n",
       "    <tr style=\"text-align: right;\">\n",
       "      <th></th>\n",
       "      <th>seconds</th>\n",
       "      <th>rootmnsq</th>\n",
       "      <th>f1</th>\n",
       "      <th>f2</th>\n",
       "      <th>f3</th>\n",
       "      <th>f4</th>\n",
       "      <th>f0</th>\n",
       "    </tr>\n",
       "  </thead>\n",
       "  <tbody>\n",
       "    <tr>\n",
       "      <th>210</th>\n",
       "      <td>2.105</td>\n",
       "      <td>612.5</td>\n",
       "      <td>684.4</td>\n",
       "      <td>1187.4</td>\n",
       "      <td>1489.2</td>\n",
       "      <td>3059.5</td>\n",
       "      <td>129.8</td>\n",
       "    </tr>\n",
       "    <tr>\n",
       "      <th>211</th>\n",
       "      <td>2.115</td>\n",
       "      <td>550.0</td>\n",
       "      <td>676.4</td>\n",
       "      <td>1228.3</td>\n",
       "      <td>1609.7</td>\n",
       "      <td>3078.8</td>\n",
       "      <td>0.0</td>\n",
       "    </tr>\n",
       "    <tr>\n",
       "      <th>212</th>\n",
       "      <td>2.125</td>\n",
       "      <td>511.3</td>\n",
       "      <td>881.6</td>\n",
       "      <td>1240.9</td>\n",
       "      <td>1628.9</td>\n",
       "      <td>2982.4</td>\n",
       "      <td>101.5</td>\n",
       "    </tr>\n",
       "    <tr>\n",
       "      <th>213</th>\n",
       "      <td>2.135</td>\n",
       "      <td>442.6</td>\n",
       "      <td>951.5</td>\n",
       "      <td>1254.8</td>\n",
       "      <td>1654.1</td>\n",
       "      <td>3177.6</td>\n",
       "      <td>106.3</td>\n",
       "    </tr>\n",
       "    <tr>\n",
       "      <th>214</th>\n",
       "      <td>2.145</td>\n",
       "      <td>260.4</td>\n",
       "      <td>768.5</td>\n",
       "      <td>1239.6</td>\n",
       "      <td>1871.3</td>\n",
       "      <td>3146.8</td>\n",
       "      <td>107.1</td>\n",
       "    </tr>\n",
       "  </tbody>\n",
       "</table>\n",
       "</div>"
      ],
      "text/plain": [
       "     seconds  rootmnsq     f1      f2      f3      f4     f0\n",
       "210    2.105     612.5  684.4  1187.4  1489.2  3059.5  129.8\n",
       "211    2.115     550.0  676.4  1228.3  1609.7  3078.8    0.0\n",
       "212    2.125     511.3  881.6  1240.9  1628.9  2982.4  101.5\n",
       "213    2.135     442.6  951.5  1254.8  1654.1  3177.6  106.3\n",
       "214    2.145     260.4  768.5  1239.6  1871.3  3146.8  107.1"
      ]
     },
     "execution_count": 16,
     "metadata": {},
     "output_type": "execute_result"
    }
   ],
   "source": [
    "nhdf = nhdf.rename(columns={'sec': 'seconds', 'rms': 'rootmnsq'})\n",
    "nhdf.tail()"
   ]
  },
  {
   "cell_type": "markdown",
   "metadata": {},
   "source": [
    "Notice that dataframe methods do not generally modify an existing dataframe unless you ask for modification. These methods usually return a copy of the modified dataframe, and you can assign that to a variable of the same name as the input. Alternatively, you can use `inplace=True` as a paramter to modify a dataframe directly."
   ]
  },
  {
   "cell_type": "markdown",
   "metadata": {},
   "source": [
    "## Getting summary information\n",
    "\n",
    "You can get a quick summary of your dataframe with `describe()`."
   ]
  },
  {
   "cell_type": "code",
   "execution_count": 17,
   "metadata": {
    "collapsed": false,
    "scrolled": true
   },
   "outputs": [
    {
     "data": {
      "text/html": [
       "<div>\n",
       "<style>\n",
       "    .dataframe thead tr:only-child th {\n",
       "        text-align: right;\n",
       "    }\n",
       "\n",
       "    .dataframe thead th {\n",
       "        text-align: left;\n",
       "    }\n",
       "\n",
       "    .dataframe tbody tr th {\n",
       "        vertical-align: top;\n",
       "    }\n",
       "</style>\n",
       "<table border=\"1\" class=\"dataframe\">\n",
       "  <thead>\n",
       "    <tr style=\"text-align: right;\">\n",
       "      <th></th>\n",
       "      <th>seconds</th>\n",
       "      <th>rootmnsq</th>\n",
       "      <th>f1</th>\n",
       "      <th>f2</th>\n",
       "      <th>f3</th>\n",
       "      <th>f4</th>\n",
       "      <th>f0</th>\n",
       "    </tr>\n",
       "  </thead>\n",
       "  <tbody>\n",
       "    <tr>\n",
       "      <th>count</th>\n",
       "      <td>215.000000</td>\n",
       "      <td>215.000000</td>\n",
       "      <td>215.000000</td>\n",
       "      <td>215.000000</td>\n",
       "      <td>215.000000</td>\n",
       "      <td>215.000000</td>\n",
       "      <td>215.000000</td>\n",
       "    </tr>\n",
       "    <tr>\n",
       "      <th>mean</th>\n",
       "      <td>1.075000</td>\n",
       "      <td>2645.992093</td>\n",
       "      <td>441.726977</td>\n",
       "      <td>1423.562791</td>\n",
       "      <td>2498.030233</td>\n",
       "      <td>3434.841860</td>\n",
       "      <td>109.912558</td>\n",
       "    </tr>\n",
       "    <tr>\n",
       "      <th>std</th>\n",
       "      <td>0.622093</td>\n",
       "      <td>2861.467948</td>\n",
       "      <td>176.761018</td>\n",
       "      <td>280.271180</td>\n",
       "      <td>438.113048</td>\n",
       "      <td>204.961373</td>\n",
       "      <td>91.344017</td>\n",
       "    </tr>\n",
       "    <tr>\n",
       "      <th>min</th>\n",
       "      <td>0.005000</td>\n",
       "      <td>49.500000</td>\n",
       "      <td>234.600000</td>\n",
       "      <td>660.200000</td>\n",
       "      <td>1489.200000</td>\n",
       "      <td>2889.200000</td>\n",
       "      <td>0.000000</td>\n",
       "    </tr>\n",
       "    <tr>\n",
       "      <th>25%</th>\n",
       "      <td>0.540000</td>\n",
       "      <td>504.300000</td>\n",
       "      <td>315.850000</td>\n",
       "      <td>1256.500000</td>\n",
       "      <td>2260.050000</td>\n",
       "      <td>3266.550000</td>\n",
       "      <td>71.750000</td>\n",
       "    </tr>\n",
       "    <tr>\n",
       "      <th>50%</th>\n",
       "      <td>1.075000</td>\n",
       "      <td>1238.600000</td>\n",
       "      <td>365.400000</td>\n",
       "      <td>1416.900000</td>\n",
       "      <td>2363.100000</td>\n",
       "      <td>3446.600000</td>\n",
       "      <td>96.000000</td>\n",
       "    </tr>\n",
       "    <tr>\n",
       "      <th>75%</th>\n",
       "      <td>1.610000</td>\n",
       "      <td>4946.000000</td>\n",
       "      <td>529.400000</td>\n",
       "      <td>1636.700000</td>\n",
       "      <td>2721.750000</td>\n",
       "      <td>3577.250000</td>\n",
       "      <td>117.650000</td>\n",
       "    </tr>\n",
       "    <tr>\n",
       "      <th>max</th>\n",
       "      <td>2.145000</td>\n",
       "      <td>9835.100000</td>\n",
       "      <td>1240.500000</td>\n",
       "      <td>2149.000000</td>\n",
       "      <td>3521.900000</td>\n",
       "      <td>3882.400000</td>\n",
       "      <td>413.800000</td>\n",
       "    </tr>\n",
       "  </tbody>\n",
       "</table>\n",
       "</div>"
      ],
      "text/plain": [
       "          seconds     rootmnsq           f1           f2           f3  \\\n",
       "count  215.000000   215.000000   215.000000   215.000000   215.000000   \n",
       "mean     1.075000  2645.992093   441.726977  1423.562791  2498.030233   \n",
       "std      0.622093  2861.467948   176.761018   280.271180   438.113048   \n",
       "min      0.005000    49.500000   234.600000   660.200000  1489.200000   \n",
       "25%      0.540000   504.300000   315.850000  1256.500000  2260.050000   \n",
       "50%      1.075000  1238.600000   365.400000  1416.900000  2363.100000   \n",
       "75%      1.610000  4946.000000   529.400000  1636.700000  2721.750000   \n",
       "max      2.145000  9835.100000  1240.500000  2149.000000  3521.900000   \n",
       "\n",
       "                f4          f0  \n",
       "count   215.000000  215.000000  \n",
       "mean   3434.841860  109.912558  \n",
       "std     204.961373   91.344017  \n",
       "min    2889.200000    0.000000  \n",
       "25%    3266.550000   71.750000  \n",
       "50%    3446.600000   96.000000  \n",
       "75%    3577.250000  117.650000  \n",
       "max    3882.400000  413.800000  "
      ]
     },
     "execution_count": 17,
     "metadata": {},
     "output_type": "execute_result"
    }
   ],
   "source": [
    "nhdf.describe()"
   ]
  },
  {
   "cell_type": "markdown",
   "metadata": {},
   "source": [
    "Many other descriptive statistics are available as dataframe methods. See the pandas docs for a [convenient list of available methods](https://pandas.pydata.org/pandas-docs/stable/basics.html#descriptive-statistics)."
   ]
  },
  {
   "cell_type": "code",
   "execution_count": 18,
   "metadata": {
    "collapsed": false
   },
   "outputs": [
    {
     "data": {
      "text/plain": [
       "seconds        1.075000\n",
       "rootmnsq    2645.992093\n",
       "f1           441.726977\n",
       "f2          1423.562791\n",
       "f3          2498.030233\n",
       "f4          3434.841860\n",
       "f0           109.912558\n",
       "dtype: float64"
      ]
     },
     "execution_count": 18,
     "metadata": {},
     "output_type": "execute_result"
    }
   ],
   "source": [
    "nhdf.mean()"
   ]
  },
  {
   "cell_type": "code",
   "execution_count": 19,
   "metadata": {
    "collapsed": false
   },
   "outputs": [
    {
     "data": {
      "text/plain": [
       "seconds        0.622093\n",
       "rootmnsq    2861.467948\n",
       "f1           176.761018\n",
       "f2           280.271180\n",
       "f3           438.113048\n",
       "f4           204.961373\n",
       "f0            91.344017\n",
       "dtype: float64"
      ]
     },
     "execution_count": 19,
     "metadata": {},
     "output_type": "execute_result"
    }
   ],
   "source": [
    "nhdf.std()"
   ]
  }
 ],
 "metadata": {
  "kernelspec": {
   "display_name": "Python 3",
   "language": "python",
   "name": "python3"
  },
  "language_info": {
   "codemirror_mode": {
    "name": "ipython",
    "version": 3
   },
   "file_extension": ".py",
   "mimetype": "text/x-python",
   "name": "python",
   "nbconvert_exporter": "python",
   "pygments_lexer": "ipython3",
   "version": "3.5.1"
  }
 },
 "nbformat": 4,
 "nbformat_minor": 0
}
