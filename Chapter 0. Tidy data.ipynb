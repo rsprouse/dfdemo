{
 "cells": [
  {
   "cell_type": "markdown",
   "metadata": {
    "slideshow": {
     "slide_type": "slide"
    }
   },
   "source": [
    "# Tidy data\n",
    "\n",
    "Hadley Wickham (ggplot, plyr, Rstudio) has written a nice and accessible paper called [Tidy Data](https://www.jstatsoft.org/index.php/jss/article/view/v059i10/v59i10.pdf). In it he addresses the details of how to keep your research data in a tidy format and the importance of using tidy tools, which help with this task.\n",
    "\n",
    "The notebooks in this tutorial provide an introduction to one of these tidy tools, the Python pandas library, and especially the dataframe object.\n",
    "\n",
    "The notebooks focus on the mechanics of using pandas dataframes in particular. As you work through them try to keep in mind the larger context of tidy data, which can be summarized in four principles (copied from wikipedia):\n",
    "\n",
    "1. Each variable you measure should be in one column.\n",
    "1. Each different observation of that variable should be in a different row.\n",
    "1. There should be one table for each \"kind\" of variable.\n",
    "1. If you have multiple tables, they should include a column in the table that allows them to be linked.\n",
    "\n",
    "Think of pandas as a kind of **data language** that you speak, and your goal is to aggregate diverse data sources into the objects of this language. Once you have done that you can focus on a small number of operations to do your data analysis."
   ]
  },
  {
   "cell_type": "markdown",
   "metadata": {
    "slideshow": {
     "slide_type": "slide"
    }
   },
   "source": [
    "# A teaser\n",
    "\n",
    "What does the following code do?"
   ]
  },
  {
   "cell_type": "code",
   "execution_count": 1,
   "metadata": {
    "collapsed": true,
    "slideshow": {
     "slide_type": "subslide"
    }
   },
   "outputs": [],
   "source": [
    "import pandas as pd\n",
    "from audiolabel import read_label\n",
    "\n",
    "files = ('resource/two_plus_two_1.tg', 'resource/three_plus_five_1.tg')\n",
    "\n",
    "# Read pyalign phone tiers into a dataframe. Phones are in arpabet transcription.\n",
    "[phdf] = read_label(files, 'praat', tiers=['phone'], addcols=['barename'])\n",
    "\n",
    "# Calculate phone durations and assign to 'dur' column.\n",
    "phdf = phdf.assign(dur=phdf.t2 - phdf.t1)\n",
    "\n",
    "# Extract and add 'token' and 'subject' columns based on bare filenames.\n",
    "tokensubj = phdf.barename.str.extract(r'^(?P<token>.+)_(?P<subject>\\d+)$', expand=True)\n",
    "phdf = pd.concat([phdf, tokensubj], axis=1)\n",
    "\n",
    "# Read mappings of arpabet to ipa symbols. Add 'ipa' column to phone dataframe based\n",
    "# on arpabet transcription.\n",
    "ph2ipa = pd.read_csv('resource/arpabet2ipa.txt', sep='\\t', names=('arpa','ipa'))\n",
    "phdf = pd.merge(phdf, ph2ipa, left_on='label', right_on='arpa')"
   ]
  },
  {
   "cell_type": "code",
   "execution_count": 2,
   "metadata": {
    "collapsed": false,
    "slideshow": {
     "slide_type": "subslide"
    }
   },
   "outputs": [
    {
     "data": {
      "text/plain": [
       "subject  ipa\n",
       "1        aɪ     0.359200\n",
       "         eɪ     0.279300\n",
       "         f      0.054900\n",
       "         i      0.119733\n",
       "         k      0.089800\n",
       "         l      0.044925\n",
       "         p      0.099750\n",
       "         r      0.114750\n",
       "         s      0.194600\n",
       "         t      0.172933\n",
       "         u      0.244450\n",
       "         v      0.029900\n",
       "         w      0.039900\n",
       "         z      0.099750\n",
       "         ɔ      0.199500\n",
       "         ə      0.029900\n",
       "         ʌ      0.064850\n",
       "         θ      0.109700\n",
       "Name: dur, dtype: float64"
      ]
     },
     "execution_count": 2,
     "metadata": {},
     "output_type": "execute_result"
    }
   ],
   "source": [
    "# Report on mean duration of phones (in ipa transcription) by speaker.\n",
    "phdf.groupby(['subject', 'ipa']).dur.mean()"
   ]
  },
  {
   "cell_type": "code",
   "execution_count": null,
   "metadata": {
    "collapsed": true
   },
   "outputs": [],
   "source": []
  }
 ],
 "metadata": {
  "kernelspec": {
   "display_name": "Python 3",
   "language": "python",
   "name": "python3"
  },
  "language_info": {
   "codemirror_mode": {
    "name": "ipython",
    "version": 3
   },
   "file_extension": ".py",
   "mimetype": "text/x-python",
   "name": "python",
   "nbconvert_exporter": "python",
   "pygments_lexer": "ipython3",
   "version": "3.5.1"
  }
 },
 "nbformat": 4,
 "nbformat_minor": 0
}
